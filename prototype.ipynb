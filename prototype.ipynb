{
 "cells": [
  {
   "cell_type": "markdown",
   "metadata": {},
   "source": [
    "# T shaped object mass and fric_coeff profile"
   ]
  },
  {
   "cell_type": "code",
   "execution_count": 1,
   "metadata": {},
   "outputs": [],
   "source": [
    "import os\n",
    "import sys\n",
    "import torch\n",
    "import cv2\n",
    "import numpy as np\n",
    "import matplotlib.pyplot as plt"
   ]
  },
  {
   "cell_type": "code",
   "execution_count": 12,
   "metadata": {},
   "outputs": [
    {
     "data": {
      "text/plain": [
       "True"
      ]
     },
     "execution_count": 12,
     "metadata": {},
     "output_type": "execute_result"
    }
   ],
   "source": [
    "canvas_size=(600, 1000)\n",
    "canvas = 255 * np.ones((canvas_size[0], canvas_size[1], 3), dtype='uint8')\n",
    "p, radius, color, thickness = (200, 50), 20, (255, 0, 0), -1\n",
    "\n",
    "canvas = cv2.circle(canvas, p, radius, color, thickness)\n",
    "\n",
    "cv2.imwrite('tmp.jpg', cv2.cvtColor(canvas, cv2.COLOR_BGR2RGB))"
   ]
  },
  {
   "cell_type": "code",
   "execution_count": 11,
   "metadata": {},
   "outputs": [
    {
     "data": {
      "text/plain": [
       "<matplotlib.image.AxesImage at 0x7ff776598da0>"
      ]
     },
     "execution_count": 11,
     "metadata": {},
     "output_type": "execute_result"
    },
    {
     "data": {
      "image/png": "[encoded data removed]",
      "text/plain": [
       "<Figure size 432x288 with 1 Axes>"
      ]
     },
     "metadata": {
      "needs_background": "light"
     },
     "output_type": "display_data"
    }
   ],
   "source": [
    "plt.imshow(canvas)"
   ]
  },
  {
   "cell_type": "code",
   "execution_count": 1,
   "metadata": {},
   "outputs": [
    {
     "name": "stdout",
     "output_type": "stream",
     "text": [
      "pygame 2.0.1 (SDL 2.0.14, Python 3.6.13)\n",
      "Hello from the pygame community. https://www.pygame.org/contribute.html\n"
     ]
    },
    {
     "name": "stderr",
     "output_type": "stream",
     "text": [
      "/home/jc/Env/py36/lib/python3.6/site-packages/scipy/optimize/minpack.py:829: OptimizeWarning: Covariance of the parameters could not be estimated\n",
      "  category=OptimizeWarning)\n"
     ]
    }
   ],
   "source": [
    "import os\n",
    "import sys\n",
    "\n",
    "import time\n",
    "import math\n",
    "from math import sin, cos\n",
    "import cv2\n",
    "import pickle\n",
    "import random\n",
    "import pygame\n",
    "import numpy as np\n",
    "import matplotlib.pyplot as plt\n",
    "from mpl_toolkits.axes_grid1 import make_axes_locatable\n",
    "import torch\n",
    "from torch.autograd import Variable\n",
    "\n",
    "from lcp_physics.physics.bodies import Circle, Composite\n",
    "from lcp_physics.physics.constraints import TotalConstraint, FixedJoint\n",
    "from lcp_physics.physics.forces import ExternalForce, Gravity, vert_impulse, hor_impulse\n",
    "from lcp_physics.physics.utils import Defaults, plot, reset_screen, Recorder, rel_pose\n",
    "from lcp_physics.physics.world import World, run_world, run_world_batch\n",
    "from lcp_physics.physics.action import random_action\n",
    "from lcp_physics.physics.sim import SimSingle\n",
    "\n",
    "temp = pickle.load(open('temp.pkl', 'rb'))\n",
    "mass_est, action_hist = temp['mass_est'], temp['actions']\n",
    "\n",
    "TIME = 2\n",
    "DT = Defaults.DT\n",
    "DEVICE = Defaults.DEVICE\n",
    "ROOT = os.path.abspath('.')\n",
    "\n",
    "pygame.init()\n",
    "width, height = 1000, 600\n",
    "screen = pygame.display.set_mode((width, height), pygame.DOUBLEBUF)\n",
    "screen.set_alpha(None)\n",
    "pygame.display.set_caption('2D Engine')\n",
    "reset_screen(screen)\n",
    "\n",
    "np.random.seed(1)\n",
    "\n",
    "object_names = ['hammer', 'driller', 'rod1', 'rod2']\n",
    "obj_name = object_names[0]\n",
    "mass_img_path = os.path.join(ROOT, 'fig/%s_mass.png'%obj_name)\n",
    "bottom_fric_img_path = os.path.join(ROOT, 'fig/%s_fric.png'%obj_name)\n",
    "\n",
    "# initializa sim \n",
    "sim = SimSingle.from_img(mass_img_path, bottom_fric_img_path, particle_radius=10, \n",
    "                hand_radius=20)\n",
    "sim.mass_est = mass_est\n",
    "sim.bottom_fric_est = sim.bottom_fric_gt\n",
    "\n",
    "target_list = torch.tensor([[1.9, 300, 100],\n",
    "                            [0.3, 700, 300],\n",
    "                            [-2.9, 650, 400],\n",
    "                            [-1.1, 550, 150],\n",
    "                            [2.5, 200, 400]]).float()\n",
    "idx = 0\n",
    "\n",
    "step_size = torch.tensor([0.1, 20, 20]).float()\n",
    "epsilon = 10\n",
    "batch_size = 10\n",
    "\n",
    "# init the composite at center, extract particle positions\n",
    "target_pose = target_list[idx].reshape(-1)\n",
    "target_particle_pos = sim.transform_particles(target_pose[0], target_pose[1:])\n",
    "start_pose = torch.tensor([0, 500, 300]).float()\n",
    "start_particle_pos = sim.transform_particles(start_pose[0], start_pose[1:])\n",
    "curr_particle_pos = start_particle_pos"
   ]
  },
  {
   "cell_type": "code",
   "execution_count": 4,
   "metadata": {},
   "outputs": [
    {
     "data": {
      "text/plain": [
       "[[array([569.93998189, 308.94550803]), array([-0.8934457 ,  0.44917121])],\n",
       " [array([811.53360577, 349.38378772]), array([-0.99330562,  0.11551576])],\n",
       " [array([785.92458388, 325.19768959]), array([-0.97470618,  0.2234901 ])],\n",
       " [array([504.21378704, 428.3502277 ]), array([-0.92716287, -0.3746585 ])],\n",
       " [array([473.9537997, 290.2962263]), array([-0.99936795, -0.03554865])],\n",
       " [array([440.15060285, 311.1121647 ]), array([-0.80660765,  0.59108723])],\n",
       " [array([674.01587634, 274.67227902]), array([-0.78424176,  0.62045534])],\n",
       " [array([416.95689063, 435.00074796]), array([-0.66022972, -0.7510637 ])],\n",
       " [array([604.32278206, 374.09776176]), array([-0.11729961, -0.99309659])],\n",
       " [array([350.55484036, 465.9374728 ]), array([-0.24005328, -0.97075969])],\n",
       " [array([333.34163736, 432.2783144 ]), array([-0.10827356, -0.99412113])],\n",
       " [array([380.84801288, 198.08646247]), array([-0.99967629, -0.02544271])],\n",
       " [array([318.50706602, 403.5434463 ]), array([-0.1224705 , -0.99247217])],\n",
       " [array([525.33514517, 211.63445889]), array([0.03209285, 0.9994849 ])],\n",
       " [array([509.31956324, 240.0754092 ]), array([-0.11016716,  0.99391305])],\n",
       " [array([609.73672896, 358.6859215 ]), array([-0.96719646, -0.25402954])],\n",
       " [array([558.27448533, 385.08439891]), array([-0.24472445, -0.96959267])],\n",
       " [array([237.05328599, 270.50803855]), array([0.99519062, 0.09795739])],\n",
       " [array([301.28635037, 377.63002813]), array([ 0.08540366, -0.99634641])],\n",
       " [array([532.86468741, 231.93708727]), array([-0.22780319,  0.9737072 ])],\n",
       " [array([340.93229857, 303.42708701]), array([-0.77697714, -0.62952882])],\n",
       " [array([578.48978543, 357.60578657]), array([-0.87880027, -0.47718978])],\n",
       " [array([232.86589128, 307.59288881]), array([ 0.47334072, -0.8808794 ])],\n",
       " [array([372.39209106, 168.19045977]), array([-0.9989387 ,  0.04605937])],\n",
       " [array([281.73727596, 271.62143481]), array([-0.84554821, -0.53389907])],\n",
       " [array([272.64465112, 243.91131401]), array([-0.07662474, -0.99706   ])],\n",
       " [array([477.2461319 , 287.15277886]), array([-0.71206021,  0.7021184 ])],\n",
       " [array([458.88550174, 338.27810585]), array([-0.83089006,  0.55643666])],\n",
       " [array([349.52586928, 197.06183302]), array([-0.91687685,  0.39917016])],\n",
       " [array([334.45075779, 450.6979124 ]), array([-0.3151907 , -0.94902837])],\n",
       " [array([362.54900184, 343.50808267]), array([-0.95035392,  0.31117108])],\n",
       " [array([191.41242936, 187.45970432]), array([-0.03601856, -0.9993511 ])],\n",
       " [array([295.34241181, 202.03429116]), array([-0.99999261, -0.00384585])],\n",
       " [array([258.13305157, 377.64511095]), array([-0.99712908, -0.07572053])],\n",
       " [array([163.53060477, 143.0297514 ]), array([ 0.53449008, -0.84517476])]]"
      ]
     },
     "execution_count": 4,
     "metadata": {},
     "output_type": "execute_result"
    }
   ],
   "source": [
    "action_hist = [[np.array([569.93998189, 308.94550803]), np.array([-0.8934457 ,  0.44917121])],\n",
    "             [np.array([811.53360577, 349.38378772]), np.array([-0.99330562,  0.11551576])],\n",
    "             [np.array([785.92458388, 325.19768959]), np.array([-0.97470618,  0.2234901 ])],\n",
    "             [np.array([504.21378704, 428.3502277 ]), np.array([-0.92716287, -0.3746585 ])],\n",
    "             [np.array([473.9537997, 290.2962263]), np.array([-0.99936795, -0.03554865])],\n",
    "             [np.array([440.15060285, 311.1121647 ]), np.array([-0.80660765,  0.59108723])],\n",
    "             [np.array([674.01587634, 274.67227902]), np.array([-0.78424176,  0.62045534])],\n",
    "             [np.array([416.95689063, 435.00074796]), np.array([-0.66022972, -0.7510637 ])],\n",
    "             [np.array([604.32278206, 374.09776176]), np.array([-0.11729961, -0.99309659])],\n",
    "             [np.array([350.55484036, 465.9374728 ]), np.array([-0.24005328, -0.97075969])],\n",
    "             [np.array([333.34163736, 432.2783144 ]), np.array([-0.10827356, -0.99412113])],\n",
    "             [np.array([380.84801288, 198.08646247]), np.array([-0.99967629, -0.02544271])],\n",
    "             [np.array([318.50706602, 403.5434463 ]), np.array([-0.1224705 , -0.99247217])],\n",
    "             [np.array([525.33514517, 211.63445889]), np.array([0.03209285, 0.9994849 ])],\n",
    "             [np.array([509.31956324, 240.0754092 ]), np.array([-0.11016716,  0.99391305])],\n",
    "             [np.array([609.73672896, 358.6859215 ]), np.array([-0.96719646, -0.25402954])],\n",
    "             [np.array([558.27448533, 385.08439891]), np.array([-0.24472445, -0.96959267])],\n",
    "             [np.array([237.05328599, 270.50803855]), np.array([0.99519062, 0.09795739])],\n",
    "             [np.array([301.28635037, 377.63002813]), np.array([ 0.08540366, -0.99634641])],\n",
    "             [np.array([532.86468741, 231.93708727]), np.array([-0.22780319,  0.9737072 ])],\n",
    "             [np.array([340.93229857, 303.42708701]), np.array([-0.77697714, -0.62952882])],\n",
    "             [np.array([578.48978543, 357.60578657]), np.array([-0.87880027, -0.47718978])],\n",
    "             [np.array([232.86589128, 307.59288881]), np.array([ 0.47334072, -0.8808794 ])],\n",
    "             [np.array([372.39209106, 168.19045977]), np.array([-0.9989387 ,  0.04605937])],\n",
    "             [np.array([281.73727596, 271.62143481]), np.array([-0.84554821, -0.53389907])],\n",
    "             [np.array([272.64465112, 243.91131401]), np.array([-0.07662474, -0.99706   ])],\n",
    "             [np.array([477.2461319 , 287.15277886]), np.array([-0.71206021,  0.7021184 ])],\n",
    "             [np.array([458.88550174, 338.27810585]), np.array([-0.83089006,  0.55643666])],\n",
    "             [np.array([349.52586928, 197.06183302]), np.array([-0.91687685,  0.39917016])],\n",
    "             [np.array([334.45075779, 450.6979124 ]), np.array([-0.3151907 , -0.94902837])],\n",
    "             [np.array([362.54900184, 343.50808267]), np.array([-0.95035392,  0.31117108])],\n",
    "             [np.array([191.41242936, 187.45970432]), np.array([-0.03601856, -0.9993511 ])],\n",
    "             [np.array([295.34241181, 202.03429116]), np.array([-0.99999261, -0.00384585])],\n",
    "             [np.array([258.13305157, 377.64511095]), np.array([-0.99712908, -0.07572053])],\n",
    "             [np.array([163.53060477, 143.0297514 ]), np.array([ 0.53449008, -0.84517476])]]\n"
   ]
  },
  {
   "cell_type": "code",
   "execution_count": 5,
   "metadata": {},
   "outputs": [
    {
     "name": "stdout",
     "output_type": "stream",
     "text": [
      "  2 / 2  30.0 Step: 0, distance: 451.353943\n",
      "  2 / 2  30.0 Step: 1, distance: 432.888794\n",
      "  2 / 2  30.0 Step: 2, distance: 410.214600\n",
      "  2 / 2  30.0 Step: 3, distance: 382.733063\n",
      "  2 / 2  30.0 Step: 4, distance: 364.294586\n",
      "  2 / 2  30.0 Step: 5, distance: 358.844849\n",
      "  2 / 2  30.0 Step: 6, distance: 346.827362\n",
      "  2 / 2  30.0 Step: 7, distance: 309.318756\n",
      "  2 / 2  30.0 Step: 8, distance: 305.995178\n",
      "  2 / 2  30.0 Step: 9, distance: 288.559387\n",
      "  2 / 2  30.0 Step: 10, distance: 273.736725\n",
      "  2 / 2  30.0 Step: 11, distance: 266.134857\n",
      "  2 / 2  30.0 Step: 12, distance: 256.801270\n",
      "  2 / 2  30.0 Step: 13, distance: 255.251923\n",
      "  2 / 2  30.0 Step: 14, distance: 253.110565\n",
      "  2 / 2  30.0 Step: 15, distance: 234.157974\n",
      "  2 / 2  30.0 Step: 16, distance: 235.017761\n",
      "  2 / 2  30.0 Step: 17, distance: 251.656036\n",
      "  2 / 2  30.0 Step: 18, distance: 239.690063\n",
      "  2 / 2  30.0 Step: 19, distance: 234.825958\n",
      "  2 / 2  30.0 Step: 20, distance: 214.193680\n",
      "  2 / 2  30.0 Step: 21, distance: 194.159866\n",
      "  2 / 2  30.0 Step: 22, distance: 190.244629\n",
      "  2 / 2  30.0 Step: 23, distance: 179.060074\n",
      "  2 / 2  30.0 Step: 24, distance: 158.911774\n",
      "  2 / 2  30.0 Step: 25, distance: 147.404419\n",
      "  2 / 2  30.0 Step: 26, distance: 132.765305\n",
      "  2 / 2  30.0 Step: 27, distance: 118.755676\n",
      "  2 / 2  30.0 Step: 28, distance: 98.330711\n",
      "  2 / 2  30.0 Step: 29, distance: 82.185623\n",
      "  2 / 2  30.0 Step: 30, distance: 65.830345\n",
      "  2 / 2  30.0 Step: 31, distance: 46.651295\n",
      "  2 / 2  30.0 Step: 32, distance: 28.787079\n",
      "  2 / 2  30.0 Step: 33, distance: 13.165364\n",
      "  2 / 2  30.0 Step: 34, distance: 9.116977\n"
     ]
    }
   ],
   "source": [
    "for i, action in enumerate(action_hist):\n",
    "    curr_pose = rel_pose(sim.particle_pos0, curr_particle_pos)\n",
    "    composite_body = sim.init_composite_object(sim.particle_radius, sim.mass_est, \n",
    "                            sim.bottom_fric_gt, rotation=curr_pose[0], offset=curr_pose[1:])\n",
    "    world = sim.make_world(composite_body, action)\n",
    "    rec = None\n",
    "#     rec = Recorder(DT, screen, path=os.path.join(ROOT, 'tmp/rrt_step%d'%step))\n",
    "    run_world(world, run_time=TIME, screen=screen, recorder=rec, show_mass=True)\n",
    "    curr_particle_pos = composite_body.get_particle_pos()\n",
    "    \n",
    "    dist = torch.mean(torch.norm(target_particle_pos - \n",
    "                                 curr_particle_pos, dim=1)).item()\n",
    "    print('Step: %d, distance: %f'%(i, dist))"
   ]
  },
  {
   "cell_type": "code",
   "execution_count": 5,
   "metadata": {},
   "outputs": [
    {
     "name": "stdout",
     "output_type": "stream",
     "text": [
      "  2 / 2  30.0 distance: 448.598206\n"
     ]
    }
   ],
   "source": [
    "action = [np.array([569.93998189, 308.94550803]), np.array([-0.8934457 ,  0.44917121])]\n",
    "theta = 0.2\n",
    "action[1] = np.array([[np.cos(theta), -np.sin(theta)],[np.sin(theta), np.cos(theta)]]) @ action[1]\n",
    "curr_pose = rel_pose(sim.particle_pos0, curr_particle_pos)\n",
    "composite_body = sim.init_composite_object(sim.particle_radius, sim.mass_est, \n",
    "                        sim.bottom_fric_gt, rotation=curr_pose[0], offset=curr_pose[1:])\n",
    "world = sim.make_world(composite_body, action)\n",
    "rec = None\n",
    "#     rec = Recorder(DT, screen, path=os.path.join(ROOT, 'tmp/rrt_step%d'%step))\n",
    "run_world(world, run_time=TIME, screen=screen, recorder=rec, show_mass=True)\n",
    "\n",
    "dist = torch.mean(torch.norm(target_particle_pos - \n",
    "                             composite_body.get_particle_pos(), dim=1)).item()\n",
    "print('distance: %f'%(dist))"
   ]
  },
  {
   "cell_type": "code",
   "execution_count": 6,
   "metadata": {},
   "outputs": [],
   "source": [
    "curr_particle_pos = composite_body.get_particle_pos()"
   ]
  },
  {
   "cell_type": "code",
   "execution_count": 7,
   "metadata": {},
   "outputs": [
    {
     "name": "stdout",
     "output_type": "stream",
     "text": [
      "  2 / 2  30.0 distance: 414.400360\n"
     ]
    }
   ],
   "source": [
    "action = [np.array([813, 355]), np.array([-0.99330562,  0.11551576])]\n",
    "theta = -0\n",
    "action[1] = np.array([[np.cos(theta), -np.sin(theta)],[np.sin(theta), np.cos(theta)]]) @ action[1]\n",
    "curr_pose = rel_pose(sim.particle_pos0, curr_particle_pos)\n",
    "composite_body = sim.init_composite_object(sim.particle_radius, sim.mass_est, \n",
    "                        sim.bottom_fric_gt, rotation=curr_pose[0], offset=curr_pose[1:])\n",
    "world = sim.make_world(composite_body, action)\n",
    "rec = None\n",
    "#     rec = Recorder(DT, screen, path=os.path.join(ROOT, 'tmp/rrt_step%d'%step))\n",
    "run_world(world, run_time=TIME, screen=screen, recorder=rec, show_mass=True)\n",
    "\n",
    "dist = torch.mean(torch.norm(target_particle_pos - \n",
    "                             composite_body.get_particle_pos(), dim=1)).item()\n",
    "print('distance: %f'%(dist))"
   ]
  },
  {
   "cell_type": "code",
   "execution_count": 8,
   "metadata": {},
   "outputs": [],
   "source": [
    "curr_particle_pos = composite_body.get_particle_pos()"
   ]
  },
  {
   "cell_type": "code",
   "execution_count": 9,
   "metadata": {},
   "outputs": [
    {
     "name": "stdout",
     "output_type": "stream",
     "text": [
      "  2 / 2  30.0 distance: 385.110657\n"
     ]
    }
   ],
   "source": [
    "action = [np.array([515, 415]), np.array([-0.97470618,  0.2234901 ])]\n",
    "theta = 0.9\n",
    "action[1] = np.array([[np.cos(theta), -np.sin(theta)],[np.sin(theta), np.cos(theta)]]) @ action[1]\n",
    "curr_pose = rel_pose(sim.particle_pos0, curr_particle_pos)\n",
    "composite_body = sim.init_composite_object(sim.particle_radius, sim.mass_est, \n",
    "                        sim.bottom_fric_gt, rotation=curr_pose[0], offset=curr_pose[1:])\n",
    "world = sim.make_world(composite_body, action)\n",
    "rec = None\n",
    "#     rec = Recorder(DT, screen, path=os.path.join(ROOT, 'tmp/rrt_step%d'%step))\n",
    "run_world(world, run_time=TIME, screen=screen, recorder=rec, show_mass=True)\n",
    "\n",
    "dist = torch.mean(torch.norm(target_particle_pos - \n",
    "                             composite_body.get_particle_pos(), dim=1)).item()\n",
    "print('distance: %f'%(dist))"
   ]
  },
  {
   "cell_type": "code",
   "execution_count": 10,
   "metadata": {},
   "outputs": [],
   "source": [
    "curr_particle_pos = composite_body.get_particle_pos()"
   ]
  },
  {
   "cell_type": "code",
   "execution_count": 11,
   "metadata": {},
   "outputs": [
    {
     "name": "stdout",
     "output_type": "stream",
     "text": [
      "  2 / 2  30.0 distance: 343.396240\n"
     ]
    }
   ],
   "source": [
    "action = [np.array([747, 355]), np.array([-0.99330562,  0.11551576])]\n",
    "theta = 0\n",
    "action[1] = np.array([[np.cos(theta), -np.sin(theta)],[np.sin(theta), np.cos(theta)]]) @ action[1]\n",
    "curr_pose = rel_pose(sim.particle_pos0, curr_particle_pos)\n",
    "composite_body = sim.init_composite_object(sim.particle_radius, sim.mass_est, \n",
    "                        sim.bottom_fric_gt, rotation=curr_pose[0], offset=curr_pose[1:])\n",
    "world = sim.make_world(composite_body, action)\n",
    "rec = None\n",
    "#     rec = Recorder(DT, screen, path=os.path.join(ROOT, 'tmp/rrt_step%d'%step))\n",
    "run_world(world, run_time=TIME, screen=screen, recorder=rec, show_mass=True)\n",
    "\n",
    "dist = torch.mean(torch.norm(target_particle_pos - \n",
    "                             composite_body.get_particle_pos(), dim=1)).item()\n",
    "print('distance: %f'%(dist))"
   ]
  },
  {
   "cell_type": "code",
   "execution_count": 12,
   "metadata": {},
   "outputs": [],
   "source": [
    "curr_particle_pos = composite_body.get_particle_pos()"
   ]
  },
  {
   "cell_type": "code",
   "execution_count": 13,
   "metadata": {},
   "outputs": [
    {
     "name": "stdout",
     "output_type": "stream",
     "text": [
      "  2 / 2  30.0 distance: 318.087280\n"
     ]
    }
   ],
   "source": [
    "action = [np.array([698, 325]), np.array([-0.99330562,  0.11551576])]\n",
    "theta = -0.4\n",
    "action[1] = np.array([[np.cos(theta), -np.sin(theta)],[np.sin(theta), np.cos(theta)]]) @ action[1]\n",
    "curr_pose = rel_pose(sim.particle_pos0, curr_particle_pos)\n",
    "composite_body = sim.init_composite_object(sim.particle_radius, sim.mass_est, \n",
    "                        sim.bottom_fric_gt, rotation=curr_pose[0], offset=curr_pose[1:])\n",
    "world = sim.make_world(composite_body, action)\n",
    "rec = None\n",
    "#     rec = Recorder(DT, screen, path=os.path.join(ROOT, 'tmp/rrt_step%d'%step))\n",
    "run_world(world, run_time=TIME, screen=screen, recorder=rec, show_mass=True)\n",
    "\n",
    "dist = torch.mean(torch.norm(target_particle_pos - \n",
    "                             composite_body.get_particle_pos(), dim=1)).item()\n",
    "print('distance: %f'%(dist))"
   ]
  },
  {
   "cell_type": "code",
   "execution_count": 14,
   "metadata": {},
   "outputs": [],
   "source": [
    "curr_particle_pos = composite_body.get_particle_pos()"
   ]
  },
  {
   "cell_type": "code",
   "execution_count": 15,
   "metadata": {},
   "outputs": [
    {
     "name": "stdout",
     "output_type": "stream",
     "text": [
      "  2 / 2  30.0 distance: 294.471313\n"
     ]
    }
   ],
   "source": [
    "action = [np.array([657.5, 390]), np.array([-0.99330562,  0.11551576])]\n",
    "theta = 0\n",
    "action[1] = np.array([[np.cos(theta), -np.sin(theta)],[np.sin(theta), np.cos(theta)]]) @ action[1]\n",
    "curr_pose = rel_pose(sim.particle_pos0, curr_particle_pos)\n",
    "composite_body = sim.init_composite_object(sim.particle_radius, sim.mass_est, \n",
    "                        sim.bottom_fric_gt, rotation=curr_pose[0], offset=curr_pose[1:])\n",
    "world = sim.make_world(composite_body, action)\n",
    "rec = None\n",
    "#     rec = Recorder(DT, screen, path=os.path.join(ROOT, 'tmp/rrt_step%d'%step))\n",
    "run_world(world, run_time=TIME, screen=screen, recorder=rec, show_mass=True)\n",
    "\n",
    "dist = torch.mean(torch.norm(target_particle_pos - \n",
    "                             composite_body.get_particle_pos(), dim=1)).item()\n",
    "print('distance: %f'%(dist))"
   ]
  },
  {
   "cell_type": "code",
   "execution_count": 16,
   "metadata": {},
   "outputs": [],
   "source": [
    "curr_particle_pos = composite_body.get_particle_pos()"
   ]
  },
  {
   "cell_type": "code",
   "execution_count": 17,
   "metadata": {},
   "outputs": [
    {
     "name": "stdout",
     "output_type": "stream",
     "text": [
      "  2 / 2  30.0 distance: 278.989014\n"
     ]
    }
   ],
   "source": [
    "action = [np.array([630.8, 361]), np.array([-0.99330562,  0.11551576])]\n",
    "theta = -0.1\n",
    "action[1] = np.array([[np.cos(theta), -np.sin(theta)],[np.sin(theta), np.cos(theta)]]) @ action[1]\n",
    "curr_pose = rel_pose(sim.particle_pos0, curr_particle_pos)\n",
    "composite_body = sim.init_composite_object(sim.particle_radius, sim.mass_est, \n",
    "                        sim.bottom_fric_gt, rotation=curr_pose[0], offset=curr_pose[1:])\n",
    "world = sim.make_world(composite_body, action)\n",
    "rec = None\n",
    "#     rec = Recorder(DT, screen, path=os.path.join(ROOT, 'tmp/rrt_step%d'%step))\n",
    "run_world(world, run_time=TIME, screen=screen, recorder=rec, show_mass=True)\n",
    "\n",
    "dist = torch.mean(torch.norm(target_particle_pos - \n",
    "                             composite_body.get_particle_pos(), dim=1)).item()\n",
    "print('distance: %f'%(dist))"
   ]
  },
  {
   "cell_type": "code",
   "execution_count": 18,
   "metadata": {},
   "outputs": [],
   "source": [
    "curr_particle_pos = composite_body.get_particle_pos()"
   ]
  },
  {
   "cell_type": "code",
   "execution_count": 19,
   "metadata": {},
   "outputs": [
    {
     "name": "stdout",
     "output_type": "stream",
     "text": [
      "  2 / 2  30.0 distance: 250.926041\n"
     ]
    }
   ],
   "source": [
    "action = [np.array([328, 427]), np.array([-0.99330562,  0.11551576])]\n",
    "theta = 0.6\n",
    "action[1] = np.array([[np.cos(theta), -np.sin(theta)],[np.sin(theta), np.cos(theta)]]) @ action[1]\n",
    "curr_pose = rel_pose(sim.particle_pos0, curr_particle_pos)\n",
    "composite_body = sim.init_composite_object(sim.particle_radius, sim.mass_est, \n",
    "                        sim.bottom_fric_gt, rotation=curr_pose[0], offset=curr_pose[1:])\n",
    "world = sim.make_world(composite_body, action)\n",
    "rec = None\n",
    "#     rec = Recorder(DT, screen, path=os.path.join(ROOT, 'tmp/rrt_step%d'%step))\n",
    "run_world(world, run_time=TIME, screen=screen, recorder=rec, show_mass=True)\n",
    "\n",
    "dist = torch.mean(torch.norm(target_particle_pos - \n",
    "                             composite_body.get_particle_pos(), dim=1)).item()\n",
    "print('distance: %f'%(dist))"
   ]
  },
  {
   "cell_type": "code",
   "execution_count": 20,
   "metadata": {},
   "outputs": [],
   "source": [
    "curr_particle_pos = composite_body.get_particle_pos()"
   ]
  },
  {
   "cell_type": "code",
   "execution_count": 21,
   "metadata": {},
   "outputs": [
    {
     "name": "stdout",
     "output_type": "stream",
     "text": [
      "  2 / 2  30.0 distance: 223.720093\n"
     ]
    }
   ],
   "source": [
    "action = [np.array([295, 383.5]), np.array([-0.99330562,  0.11551576])]\n",
    "theta = 0.8\n",
    "action[1] = np.array([[np.cos(theta), -np.sin(theta)],[np.sin(theta), np.cos(theta)]]) @ action[1]\n",
    "curr_pose = rel_pose(sim.particle_pos0, curr_particle_pos)\n",
    "composite_body = sim.init_composite_object(sim.particle_radius, sim.mass_est, \n",
    "                        sim.bottom_fric_gt, rotation=curr_pose[0], offset=curr_pose[1:])\n",
    "world = sim.make_world(composite_body, action)\n",
    "rec = None\n",
    "#     rec = Recorder(DT, screen, path=os.path.join(ROOT, 'tmp/rrt_step%d'%step))\n",
    "run_world(world, run_time=TIME, screen=screen, recorder=rec, show_mass=True)\n",
    "\n",
    "dist = torch.mean(torch.norm(target_particle_pos - \n",
    "                             composite_body.get_particle_pos(), dim=1)).item()\n",
    "print('distance: %f'%(dist))"
   ]
  },
  {
   "cell_type": "code",
   "execution_count": 22,
   "metadata": {},
   "outputs": [],
   "source": [
    "curr_particle_pos = composite_body.get_particle_pos()"
   ]
  },
  {
   "cell_type": "code",
   "execution_count": 23,
   "metadata": {},
   "outputs": [
    {
     "name": "stdout",
     "output_type": "stream",
     "text": [
      "  2 / 2  30.0 distance: 204.023529\n"
     ]
    }
   ],
   "source": [
    "action = [np.array([529, 442]), np.array([-0.99330562,  0.11551576])]\n",
    "theta = 0\n",
    "action[1] = np.array([[np.cos(theta), -np.sin(theta)],[np.sin(theta), np.cos(theta)]]) @ action[1]\n",
    "curr_pose = rel_pose(sim.particle_pos0, curr_particle_pos)\n",
    "composite_body = sim.init_composite_object(sim.particle_radius, sim.mass_est, \n",
    "                        sim.bottom_fric_gt, rotation=curr_pose[0], offset=curr_pose[1:])\n",
    "world = sim.make_world(composite_body, action)\n",
    "rec = None\n",
    "#     rec = Recorder(DT, screen, path=os.path.join(ROOT, 'tmp/rrt_step%d'%step))\n",
    "run_world(world, run_time=TIME, screen=screen, recorder=rec, show_mass=True)\n",
    "\n",
    "dist = torch.mean(torch.norm(target_particle_pos - \n",
    "                             composite_body.get_particle_pos(), dim=1)).item()\n",
    "print('distance: %f'%(dist))"
   ]
  },
  {
   "cell_type": "code",
   "execution_count": 24,
   "metadata": {},
   "outputs": [],
   "source": [
    "curr_particle_pos = composite_body.get_particle_pos()"
   ]
  },
  {
   "cell_type": "code",
   "execution_count": 25,
   "metadata": {},
   "outputs": [
    {
     "name": "stdout",
     "output_type": "stream",
     "text": [
      "  2 / 2  30.0 distance: 170.462891\n"
     ]
    }
   ],
   "source": [
    "action = [np.array([228, 355]), np.array([-0.99330562,  0.11551576])]\n",
    "theta = 0.9\n",
    "action[1] = np.array([[np.cos(theta), -np.sin(theta)],[np.sin(theta), np.cos(theta)]]) @ action[1]\n",
    "curr_pose = rel_pose(sim.particle_pos0, curr_particle_pos)\n",
    "composite_body = sim.init_composite_object(sim.particle_radius, sim.mass_est, \n",
    "                        sim.bottom_fric_gt, rotation=curr_pose[0], offset=curr_pose[1:])\n",
    "world = sim.make_world(composite_body, action)\n",
    "rec = None\n",
    "#     rec = Recorder(DT, screen, path=os.path.join(ROOT, 'tmp/rrt_step%d'%step))\n",
    "run_world(world, run_time=TIME, screen=screen, recorder=rec, show_mass=True)\n",
    "\n",
    "dist = torch.mean(torch.norm(target_particle_pos - \n",
    "                             composite_body.get_particle_pos(), dim=1)).item()\n",
    "print('distance: %f'%(dist))"
   ]
  },
  {
   "cell_type": "code",
   "execution_count": 26,
   "metadata": {},
   "outputs": [],
   "source": [
    "curr_particle_pos = composite_body.get_particle_pos()"
   ]
  },
  {
   "cell_type": "code",
   "execution_count": 27,
   "metadata": {},
   "outputs": [
    {
     "name": "stdout",
     "output_type": "stream",
     "text": [
      "  2 / 2  30.0 distance: 150.574371\n"
     ]
    }
   ],
   "source": [
    "action = [np.array([190, 322]), np.array([-0.99330562,  0.11551576])]\n",
    "theta = 1.3\n",
    "action[1] = np.array([[np.cos(theta), -np.sin(theta)],[np.sin(theta), np.cos(theta)]]) @ action[1]\n",
    "curr_pose = rel_pose(sim.particle_pos0, curr_particle_pos)\n",
    "composite_body = sim.init_composite_object(sim.particle_radius, sim.mass_est, \n",
    "                        sim.bottom_fric_gt, rotation=curr_pose[0], offset=curr_pose[1:])\n",
    "world = sim.make_world(composite_body, action)\n",
    "rec = None\n",
    "#     rec = Recorder(DT, screen, path=os.path.join(ROOT, 'tmp/rrt_step%d'%step))\n",
    "run_world(world, run_time=TIME, screen=screen, recorder=rec, show_mass=True)\n",
    "\n",
    "dist = torch.mean(torch.norm(target_particle_pos - \n",
    "                             composite_body.get_particle_pos(), dim=1)).item()\n",
    "print('distance: %f'%(dist))"
   ]
  },
  {
   "cell_type": "code",
   "execution_count": 28,
   "metadata": {},
   "outputs": [],
   "source": [
    "curr_particle_pos = composite_body.get_particle_pos()"
   ]
  },
  {
   "cell_type": "code",
   "execution_count": 29,
   "metadata": {},
   "outputs": [
    {
     "name": "stdout",
     "output_type": "stream",
     "text": [
      "  2 / 2  30.0 distance: 125.967949\n"
     ]
    }
   ],
   "source": [
    "action = [np.array([170, 298]), np.array([-0.99330562,  0.11551576])]\n",
    "theta = 1.6\n",
    "action[1] = np.array([[np.cos(theta), -np.sin(theta)],[np.sin(theta), np.cos(theta)]]) @ action[1]\n",
    "curr_pose = rel_pose(sim.particle_pos0, curr_particle_pos)\n",
    "composite_body = sim.init_composite_object(sim.particle_radius, sim.mass_est, \n",
    "                        sim.bottom_fric_gt, rotation=curr_pose[0], offset=curr_pose[1:])\n",
    "world = sim.make_world(composite_body, action)\n",
    "rec = None\n",
    "#     rec = Recorder(DT, screen, path=os.path.join(ROOT, 'tmp/rrt_step%d'%step))\n",
    "run_world(world, run_time=TIME, screen=screen, recorder=rec, show_mass=True)\n",
    "\n",
    "dist = torch.mean(torch.norm(target_particle_pos - \n",
    "                             composite_body.get_particle_pos(), dim=1)).item()\n",
    "print('distance: %f'%(dist))"
   ]
  },
  {
   "cell_type": "code",
   "execution_count": 30,
   "metadata": {},
   "outputs": [],
   "source": [
    "curr_particle_pos = composite_body.get_particle_pos()"
   ]
  },
  {
   "cell_type": "code",
   "execution_count": 31,
   "metadata": {},
   "outputs": [
    {
     "name": "stdout",
     "output_type": "stream",
     "text": [
      "  2 / 2  30.0 distance: 96.819565\n"
     ]
    }
   ],
   "source": [
    "action = [np.array([264, 514]), np.array([-0.99330562,  0.11551576])]\n",
    "theta = 1.56\n",
    "action[1] = np.array([[np.cos(theta), -np.sin(theta)],[np.sin(theta), np.cos(theta)]]) @ action[1]\n",
    "curr_pose = rel_pose(sim.particle_pos0, curr_particle_pos)\n",
    "composite_body = sim.init_composite_object(sim.particle_radius, sim.mass_est, \n",
    "                        sim.bottom_fric_gt, rotation=curr_pose[0], offset=curr_pose[1:])\n",
    "world = sim.make_world(composite_body, action)\n",
    "rec = None\n",
    "#     rec = Recorder(DT, screen, path=os.path.join(ROOT, 'tmp/rrt_step%d'%step))\n",
    "run_world(world, run_time=TIME, screen=screen, recorder=rec, show_mass=True)\n",
    "\n",
    "dist = torch.mean(torch.norm(target_particle_pos - \n",
    "                             composite_body.get_particle_pos(), dim=1)).item()\n",
    "print('distance: %f'%(dist))"
   ]
  },
  {
   "cell_type": "code",
   "execution_count": 32,
   "metadata": {},
   "outputs": [],
   "source": [
    "curr_particle_pos = composite_body.get_particle_pos()"
   ]
  },
  {
   "cell_type": "code",
   "execution_count": 33,
   "metadata": {},
   "outputs": [
    {
     "name": "stdout",
     "output_type": "stream",
     "text": [
      "  2 / 2  30.0 distance: 69.153961\n"
     ]
    }
   ],
   "source": [
    "action = [np.array([193, 225]), np.array([-0.99330562,  0.11551576])]\n",
    "theta = 1.7\n",
    "action[1] = np.array([[np.cos(theta), -np.sin(theta)],[np.sin(theta), np.cos(theta)]]) @ action[1]\n",
    "curr_pose = rel_pose(sim.particle_pos0, curr_particle_pos)\n",
    "composite_body = sim.init_composite_object(sim.particle_radius, sim.mass_est, \n",
    "                        sim.bottom_fric_gt, rotation=curr_pose[0], offset=curr_pose[1:])\n",
    "world = sim.make_world(composite_body, action)\n",
    "rec = None\n",
    "#     rec = Recorder(DT, screen, path=os.path.join(ROOT, 'tmp/rrt_step%d'%step))\n",
    "run_world(world, run_time=TIME, screen=screen, recorder=rec, show_mass=True)\n",
    "\n",
    "dist = torch.mean(torch.norm(target_particle_pos - \n",
    "                             composite_body.get_particle_pos(), dim=1)).item()\n",
    "print('distance: %f'%(dist))"
   ]
  },
  {
   "cell_type": "code",
   "execution_count": 34,
   "metadata": {},
   "outputs": [],
   "source": [
    "curr_particle_pos = composite_body.get_particle_pos()"
   ]
  },
  {
   "cell_type": "code",
   "execution_count": 45,
   "metadata": {},
   "outputs": [
    {
     "name": "stdout",
     "output_type": "stream",
     "text": [
      "  2 / 2  30.0 distance: 49.980450\n"
     ]
    }
   ],
   "source": [
    "action = [np.array([305, 202]), np.array([-0.99330562,  0.11551576])]\n",
    "theta = 0.3\n",
    "action[1] = np.array([[np.cos(theta), -np.sin(theta)],[np.sin(theta), np.cos(theta)]]) @ action[1]\n",
    "curr_pose = rel_pose(sim.particle_pos0, curr_particle_pos)\n",
    "composite_body = sim.init_composite_object(sim.particle_radius, sim.mass_est, \n",
    "                        sim.bottom_fric_gt, rotation=curr_pose[0], offset=curr_pose[1:])\n",
    "world = sim.make_world(composite_body, action)\n",
    "rec = None\n",
    "#     rec = Recorder(DT, screen, path=os.path.join(ROOT, 'tmp/rrt_step%d'%step))\n",
    "run_world(world, run_time=TIME, screen=screen, recorder=rec, show_mass=True)\n",
    "\n",
    "dist = torch.mean(torch.norm(target_particle_pos - \n",
    "                             composite_body.get_particle_pos(), dim=1)).item()\n",
    "print('distance: %f'%(dist))"
   ]
  },
  {
   "cell_type": "code",
   "execution_count": 46,
   "metadata": {},
   "outputs": [],
   "source": [
    "curr_particle_pos = composite_body.get_particle_pos()"
   ]
  },
  {
   "cell_type": "code",
   "execution_count": 55,
   "metadata": {},
   "outputs": [
    {
     "name": "stdout",
     "output_type": "stream",
     "text": [
      "  2 / 2  30.0 distance: 24.443266\n"
     ]
    }
   ],
   "source": [
    "action = [np.array([214, 451]), np.array([-0.99330562,  0.11551576])]\n",
    "theta = 1.6\n",
    "action[1] = np.array([[np.cos(theta), -np.sin(theta)],[np.sin(theta), np.cos(theta)]]) @ action[1]\n",
    "curr_pose = rel_pose(sim.particle_pos0, curr_particle_pos)\n",
    "composite_body = sim.init_composite_object(sim.particle_radius, sim.mass_est, \n",
    "                        sim.bottom_fric_gt, rotation=curr_pose[0], offset=curr_pose[1:])\n",
    "world = sim.make_world(composite_body, action)\n",
    "rec = None\n",
    "#     rec = Recorder(DT, screen, path=os.path.join(ROOT, 'tmp/rrt_step%d'%step))\n",
    "run_world(world, run_time=TIME, screen=screen, recorder=rec, show_mass=True)\n",
    "\n",
    "dist = torch.mean(torch.norm(target_particle_pos - \n",
    "                             composite_body.get_particle_pos(), dim=1)).item()\n",
    "print('distance: %f'%(dist))"
   ]
  },
  {
   "cell_type": "code",
   "execution_count": 56,
   "metadata": {},
   "outputs": [],
   "source": [
    "curr_particle_pos = composite_body.get_particle_pos()"
   ]
  },
  {
   "cell_type": "code",
   "execution_count": 69,
   "metadata": {},
   "outputs": [
    {
     "name": "stdout",
     "output_type": "stream",
     "text": [
      "  2 / 2  30.0 distance: 15.953621\n"
     ]
    }
   ],
   "source": [
    "action = [np.array([247, 335]), np.array([-0.99330562,  0.11551576])]\n",
    "theta = 1.1\n",
    "action[1] = np.array([[np.cos(theta), -np.sin(theta)],[np.sin(theta), np.cos(theta)]]) @ action[1]\n",
    "curr_pose = rel_pose(sim.particle_pos0, curr_particle_pos)\n",
    "composite_body = sim.init_composite_object(sim.particle_radius, sim.mass_est, \n",
    "                        sim.bottom_fric_gt, rotation=curr_pose[0], offset=curr_pose[1:])\n",
    "world = sim.make_world(composite_body, action)\n",
    "rec = None\n",
    "#     rec = Recorder(DT, screen, path=os.path.join(ROOT, 'tmp/rrt_step%d'%step))\n",
    "run_world(world, run_time=TIME, screen=screen, recorder=rec, show_mass=True)\n",
    "\n",
    "dist = torch.mean(torch.norm(target_particle_pos - \n",
    "                             composite_body.get_particle_pos(), dim=1)).item()\n",
    "print('distance: %f'%(dist))"
   ]
  },
  {
   "cell_type": "code",
   "execution_count": 80,
   "metadata": {},
   "outputs": [
    {
     "name": "stdout",
     "output_type": "stream",
     "text": [
      "[array([569.93998189, 308.94550803]), array([-0.8934457 ,  0.44917121])] 0.2\n",
      "  2 / 2  30.0 Step: 0, distance: 448.598206\n",
      "[array([813, 355]), array([-0.99330562,  0.11551576])] 0\n",
      "  2 / 2  30.0 Step: 1, distance: 414.400360\n",
      "[array([515, 415]), array([-0.97470618,  0.2234901 ])] 0.9\n",
      "  2 / 2  30.0 Step: 2, distance: 385.110657\n",
      "[array([747, 355]), array([-0.99330562,  0.11551576])] 0\n",
      "  2 / 2  30.0 Step: 3, distance: 343.396240\n",
      "[array([698, 325]), array([-0.99330562,  0.11551576])] -0.4\n",
      "  2 / 2  30.0 Step: 4, distance: 318.087280\n",
      "[array([657.5, 390. ]), array([-0.99330562,  0.11551576])] 0\n",
      "  2 / 2  30.0 Step: 5, distance: 294.471313\n",
      "[array([630.8, 361. ]), array([-0.99330562,  0.11551576])] -0.1\n",
      "  2 / 2  30.0 Step: 6, distance: 278.989014\n",
      "[array([328, 427]), array([-0.99330562,  0.11551576])] 0.6\n",
      "  2 / 2  30.0 Step: 7, distance: 250.926041\n",
      "[array([295. , 383.5]), array([-0.99330562,  0.11551576])] 0.8\n",
      "  2 / 2  30.0 Step: 8, distance: 223.720093\n",
      "[array([529, 442]), array([-0.99330562,  0.11551576])] 0\n",
      "  2 / 2  30.0 Step: 9, distance: 204.023529\n",
      "[array([228, 355]), array([-0.99330562,  0.11551576])] 0.9\n",
      "  2 / 2  30.0 Step: 10, distance: 170.462891\n",
      "[array([190, 322]), array([-0.99330562,  0.11551576])] 1.3\n",
      "  2 / 2  30.0 Step: 11, distance: 150.574371\n",
      "[array([170, 298]), array([-0.99330562,  0.11551576])] 1.6\n",
      "  2 / 2  30.0 Step: 12, distance: 125.967949\n",
      "[array([264, 514]), array([-0.99330562,  0.11551576])] 1.56\n",
      "  2 / 2  30.0 Step: 13, distance: 96.819565\n",
      "[array([193, 225]), array([-0.99330562,  0.11551576])] 1.7\n",
      "  2 / 2  30.0 Step: 14, distance: 69.153961\n",
      "[array([305, 202]), array([-0.99330562,  0.11551576])] 0.3\n",
      "  2 / 2  30.0 Step: 15, distance: 49.980450\n",
      "[array([214, 451]), array([-0.99330562,  0.11551576])] 1.6\n",
      "  2 / 2  30.0 Step: 16, distance: 24.443266\n",
      "[array([247, 335]), array([-0.99330562,  0.11551576])] 1.1\n",
      "  2 / 2  30.0 Step: 17, distance: 15.953621\n"
     ]
    }
   ],
   "source": [
    "action_hist = [\n",
    "    [np.array([569.93998189, 308.94550803]), np.array([-0.8934457 ,  0.44917121])],\n",
    "    [np.array([813, 355]), np.array([-0.99330562,  0.11551576])],\n",
    "    [np.array([515, 415]), np.array([-0.97470618,  0.2234901 ])],\n",
    "    [np.array([747, 355]), np.array([-0.99330562,  0.11551576])],\n",
    "    [np.array([698, 325]), np.array([-0.99330562,  0.11551576])],\n",
    "    [np.array([657.5, 390]), np.array([-0.99330562,  0.11551576])],\n",
    "    [np.array([630.8, 361]), np.array([-0.99330562,  0.11551576])],\n",
    "    [np.array([328, 427]), np.array([-0.99330562,  0.11551576])],\n",
    "    [np.array([295, 383.5]), np.array([-0.99330562,  0.11551576])],\n",
    "    [np.array([529, 442]), np.array([-0.99330562,  0.11551576])],\n",
    "    [np.array([228, 355]), np.array([-0.99330562,  0.11551576])],\n",
    "    [np.array([190, 322]), np.array([-0.99330562,  0.11551576])],\n",
    "    [np.array([170, 298]), np.array([-0.99330562,  0.11551576])],\n",
    "    [np.array([264, 514]), np.array([-0.99330562,  0.11551576])],\n",
    "    [np.array([193, 225]), np.array([-0.99330562,  0.11551576])],\n",
    "    [np.array([305, 202]), np.array([-0.99330562,  0.11551576])],\n",
    "    [np.array([214, 451]), np.array([-0.99330562,  0.11551576])],\n",
    "    [np.array([247, 335]), np.array([-0.99330562,  0.11551576])]\n",
    "]\n",
    "\n",
    "theta_hist = [0.2, 0, 0.9, 0, -0.4, 0, -0.1, 0.6, 0.8, 0, 0.9, 1.3, 1.6, 1.56, 1.7, 0.3, 1.6, 1.1]\n",
    "\n",
    "\n",
    "# init the composite at center, extract particle positions\n",
    "target_pose = target_list[idx].reshape(-1)\n",
    "target_particle_pos = sim.transform_particles(target_pose[0], target_pose[1:])\n",
    "start_pose = torch.tensor([0, 500, 300]).float()\n",
    "start_particle_pos = sim.transform_particles(start_pose[0], start_pose[1:])\n",
    "curr_particle_pos = start_particle_pos\n",
    "\n",
    "for i, action in enumerate(action_hist):\n",
    "    theta = theta_hist[i]\n",
    "    print(action, theta)\n",
    "    action[1] = np.array([[np.cos(theta), -np.sin(theta)],[np.sin(theta), np.cos(theta)]]) @ action[1]\n",
    "    curr_pose = rel_pose(sim.particle_pos0, curr_particle_pos)\n",
    "    composite_body = sim.init_composite_object(sim.particle_radius, sim.mass_est, \n",
    "                            sim.bottom_fric_gt, rotation=curr_pose[0], offset=curr_pose[1:])\n",
    "    world = sim.make_world(composite_body, action)\n",
    "#     rec = None\n",
    "    rec = Recorder(DT, screen, path=os.path.join(ROOT, 'tmp/rrt_step%d'%i))\n",
    "    run_world(world, run_time=TIME, screen=screen, recorder=rec, show_mass=True)\n",
    "    curr_particle_pos = composite_body.get_particle_pos()\n",
    "    \n",
    "    dist = torch.mean(torch.norm(target_particle_pos - \n",
    "                                 curr_particle_pos, dim=1)).item()\n",
    "    print('Step: %d, distance: %f'%(i, dist))"
   ]
  },
  {
   "cell_type": "code",
   "execution_count": 99,
   "metadata": {},
   "outputs": [
    {
     "name": "stdout",
     "output_type": "stream",
     "text": [
      "['rrt_step00', 'rrt_step01', 'rrt_step02', 'rrt_step03', 'rrt_step04', 'rrt_step05', 'rrt_step06', 'rrt_step07', 'rrt_step08', 'rrt_step09', 'rrt_step10', 'rrt_step11', 'rrt_step12', 'rrt_step13', 'rrt_step14', 'rrt_step15', 'rrt_step16', 'rrt_step17']\n"
     ]
    }
   ],
   "source": [
    "import cv2\n",
    "\n",
    "frameSize = (424, 240)\n",
    "\n",
    "base_dir = 'tmp/learn2slide_grad'\n",
    "dl = os.listdir(os.path.join(ROOT, base_dir))\n",
    "dl = [d for d in dl if os.path.isdir(os.path.join(ROOT, base_dir, d))]\n",
    "dl.sort()\n",
    "print(dl)\n",
    "\n",
    "out = cv2.VideoWriter('output.avi', cv2.VideoWriter_fourcc(*'XVID'), 30, frameSize)\n",
    "\n",
    "for d in dl:\n",
    "    img_list = os.listdir(os.path.join(ROOT, base_dir, d))\n",
    "    img_list.sort()\n",
    "    \n",
    "    for i in range(len(img_list)):\n",
    "        im_path = os.path.join(ROOT, base_dir, d, img_list[i])\n",
    "        img = cv2.imread(im_path)\n",
    "        img = cv2.resize(img, frameSize, interpolation=cv2.INTER_AREA)\n",
    "        out.write(img)\n",
    "\n",
    "out.release()"
   ]
  },
  {
   "cell_type": "code",
   "execution_count": 18,
   "metadata": {},
   "outputs": [
    {
     "data": {
      "image/png": "[encoded data removed]",
      "text/plain": [
       "<Figure size 432x288 with 1 Axes>"
      ]
     },
     "metadata": {
      "needs_background": "light"
     },
     "output_type": "display_data"
    }
   ],
   "source": [
    "import numpy as np\n",
    "import matplotlib.pyplot as plt\n",
    "\n",
    "loss1 = np.array([462.4, 451, 432, 410, 382, 364, 358, 346, 309, 305, 288, 273, 266, 256, 255, 253, 234, \n",
    "                  214, 194, 190, 179, 158, 147, 132, 118, 98, 82, 65, 46, 28, 13])\n",
    "\n",
    "loss2 = np.array([462.4, 448, 414, 385, 343, 318, 294, 278, 250, 223, 204, 170, 150, 125, 96, 69, 49, 24, 15])\n",
    "\n",
    "plt.plot(loss1)\n",
    "plt.plot(loss2)\n",
    "plt.xlabel('Number of pushes')\n",
    "plt.ylabel('Average particle distance')\n",
    "plt.legend(['no-grad', 'grad'])\n",
    "plt.savefig('hammer.jpg', dpi='figure', bbox_inches=None, pad_inches=0)"
   ]
  },
  {
   "cell_type": "code",
   "execution_count": 17,
   "metadata": {},
   "outputs": [
    {
     "data": {
      "image/png": "[encoded data removed]",
      "text/plain": [
       "<Figure size 432x288 with 1 Axes>"
      ]
     },
     "metadata": {
      "needs_background": "light"
     },
     "output_type": "display_data"
    }
   ],
   "source": [
    "loss1 = np.array([288, 277, 256, 253, 214, 190, 187, 168, 147, 135, 128, 96, 82, 69, 56, 38, 23, 11])\n",
    "\n",
    "loss2 = np.array([288, 245, 223, 200, 172, 149, 124, 90, 59, 36, 15])\n",
    "\n",
    "plt.plot(loss1)\n",
    "plt.plot(loss2)\n",
    "plt.xlabel('Number of pushes')\n",
    "plt.ylabel('Average particle distance')\n",
    "plt.legend(['no-grad', 'grad'])\n",
    "plt.savefig('rod.jpg', dpi='figure', bbox_inches=None, pad_inches=0)"
   ]
  },
  {
   "cell_type": "code",
   "execution_count": 16,
   "metadata": {},
   "outputs": [
    {
     "data": {
      "image/png": "[encoded data removed]",
      "text/plain": [
       "<Figure size 432x288 with 1 Axes>"
      ]
     },
     "metadata": {
      "needs_background": "light"
     },
     "output_type": "display_data"
    }
   ],
   "source": [
    "loss1 = np.array([479, 468, 462,  451, 432, 410, 382, 364, 358, 346, 309, 300, 296, 273, 266, 256, 255, 253,\n",
    "                  234, 220, 214, 194, 179, 158, 147, 132, 118, 98, 82, 77, 65, 46, 34,  28, 13])\n",
    "\n",
    "loss2 = np.array([479, 448, 424, 398, 383, 360, 341, 318, 294, 278, 250, 223, 204, 170, 150, 125, \n",
    "                  96, 69, 49, 15])\n",
    "\n",
    "plt.plot(loss1)\n",
    "plt.plot(loss2)\n",
    "plt.xlabel('Number of pushes')\n",
    "plt.ylabel('Average particle distance')\n",
    "plt.legend(['no-grad', 'grad'])\n",
    "plt.savefig('drill.jpg', dpi='figure', bbox_inches=None, pad_inches=0)"
   ]
  },
  {
   "cell_type": "code",
   "execution_count": 3,
   "metadata": {},
   "outputs": [],
   "source": [
    "import os\n",
    "import sys\n",
    "\n",
    "import time\n",
    "import math\n",
    "from math import sin, cos\n",
    "import cv2\n",
    "import numpy as np\n",
    "import matplotlib.pyplot as plt\n",
    "from mpl_toolkits.axes_grid1 import make_axes_locatable\n",
    "import torch\n",
    "from torch.autograd import Variable\n",
    "\n",
    "from lcp_physics.physics.bodies import Circle, Composite\n",
    "from lcp_physics.physics.constraints import TotalConstraint, FixedJoint\n",
    "from lcp_physics.physics.forces import ExternalForce, Gravity, vert_impulse, hor_impulse\n",
    "from lcp_physics.physics.utils import Defaults, plot, reset_screen, Recorder, rel_pose\n",
    "from lcp_physics.physics.world import World, run_world, run_world_batch\n",
    "from lcp_physics.physics.action import random_action\n",
    "from lcp_physics.physics.sim import SimSingle\n",
    "\n",
    "def draw(pos, color, radius, canvas_size=(450, 600), save_path=None):\n",
    "    xmin, xmax, ymin, ymax = pos[:,0].min(), pos[:,0].max(), pos[:,1].min(), pos[:,1].max()\n",
    "    \n",
    "    offset = np.array([canvas_size[1]/2 - (xmin + xmax) / 2,\n",
    "                       canvas_size[0]/2 - (ymin + ymax) / 2])\n",
    "    pos = (pos + offset).astype('int')\n",
    "    \n",
    "    thickness = -1\n",
    "    canvas = 255 * np.ones((canvas_size[0], canvas_size[1], 3), dtype='uint8')\n",
    "\n",
    "    for i, p in enumerate(pos):\n",
    "        canvas = cv2.circle(canvas, (p[0], p[1]), radius, color[i], thickness)\n",
    "\n",
    "    if save_path:\n",
    "        cv2.imwrite(save_path, cv2.cvtColor(canvas, cv2.COLOR_BGR2RGB))\n",
    "    return canvas\n",
    " "
   ]
  },
  {
   "cell_type": "code",
   "execution_count": 6,
   "metadata": {},
   "outputs": [],
   "source": [
    "ROOT = os.path.abspath('.')\n",
    "# select object name\n",
    "object_names = ['hammer', 'driller', 'rod1', 'rod2']\n",
    "obj_name = object_names[3]\n",
    "mass_img_path = os.path.join(ROOT, 'fig/%s_mass.png'%obj_name)\n",
    "bottom_fric_img_path = os.path.join(ROOT, 'fig/%s_fric.png'%obj_name)\n",
    "# initializa sim \n",
    "sim = SimSingle.from_img(mass_img_path, bottom_fric_img_path, particle_radius=10, \n",
    "                    hand_radius=20)\n",
    "mass = sim.mass_gt.numpy()\n",
    "fric = sim.bottom_fric_gt.numpy()\n",
    "\n",
    "color_mass = []\n",
    "for m in mass:\n",
    "    color_mass.append( (255 - int(m * 1e3), int(m * 1e3), 0))\n",
    "    \n",
    "color_fric = []\n",
    "for f in fric:\n",
    "    color_fric.append((2*int(255*f[0]), int(2*255*f[1]), 0))\n",
    "canvas = draw(sim.particle_pos0.numpy(), color_mass, 10, save_path='%s_mass.jpg'%(obj_name))\n",
    "canvas = draw(sim.particle_pos0.numpy(), color_fric, 10, save_path='%s_fric.jpg'%(obj_name))\n"
   ]
  },
  {
   "cell_type": "code",
   "execution_count": null,
   "metadata": {},
   "outputs": [],
   "source": []
  }
 ],
 "metadata": {
  "kernelspec": {
   "display_name": "Python 3",
   "language": "python",
   "name": "python3"
  },
  "language_info": {
   "codemirror_mode": {
    "name": "ipython",
    "version": 3
   },
   "file_extension": ".py",
   "mimetype": "text/x-python",
   "name": "python",
   "nbconvert_exporter": "python",
   "pygments_lexer": "ipython3",
   "version": "3.6.13"
  }
 },
 "nbformat": 4,
 "nbformat_minor": 5
}
