{
 "cells": [
  {
   "cell_type": "markdown",
   "metadata": {},
   "source": [
    "# T shaped object mass and fric_coeff profile"
   ]
  },
  {
   "cell_type": "code",
   "execution_count": 2,
   "metadata": {},
   "outputs": [],
   "source": [
    "import os\n",
    "import sys\n",
    "import torch\n",
    "import cv2\n",
    "import numpy as np\n",
    "import matplotlib.pyplot as plt"
   ]
  },
  {
   "cell_type": "code",
   "execution_count": 7,
   "metadata": {},
   "outputs": [
    {
     "data": {
      "image/png": "[encoded data removed]",
      "text/plain": [
       "<Figure size 432x288 with 1 Axes>"
      ]
     },
     "metadata": {
      "needs_background": "light"
     },
     "output_type": "display_data"
    }
   ],
   "source": [
    "img = cv2.imread('fig/hammer.png')\n",
    "plt.imshow(img)\n",
    "mask = img[:,:,0] < 255"
   ]
  },
  {
   "cell_type": "code",
   "execution_count": 9,
   "metadata": {},
   "outputs": [
    {
     "name": "stdout",
     "output_type": "stream",
     "text": [
      "[[0.00196078 0.09803922]\n",
      " [0.00196078 0.09803922]\n",
      " [0.00196078 0.09803922]\n",
      " [0.00196078 0.09803922]\n",
      " [0.00196078 0.09803922]\n",
      " [0.00196078 0.09803922]\n",
      " [0.00196078 0.09803922]\n",
      " [0.00196078 0.09803922]\n",
      " [0.00196078 0.09803922]\n",
      " [0.00196078 0.09803922]\n",
      " [0.00196078 0.09803922]\n",
      " [0.00196078 0.09803922]\n",
      " [0.00196078 0.09803922]\n",
      " [0.00196078 0.09803922]\n",
      " [0.00196078 0.09803922]\n",
      " [0.00196078 0.09803922]\n",
      " [0.00196078 0.09803922]\n",
      " [0.00196078 0.09803922]\n",
      " [0.00196078 0.09803922]\n",
      " [0.00196078 0.09803922]\n",
      " [0.00196078 0.09803922]\n",
      " [0.00196078 0.09803922]\n",
      " [0.00196078 0.09803922]\n",
      " [0.00196078 0.09803922]\n",
      " [0.00196078 0.09803922]\n",
      " [0.00196078 0.09803922]\n",
      " [0.00196078 0.09803922]\n",
      " [0.         0.        ]\n",
      " [0.         0.        ]\n",
      " [0.         0.        ]\n",
      " [0.         0.        ]\n",
      " [0.         0.        ]\n",
      " [0.         0.        ]\n",
      " [0.         0.        ]\n",
      " [0.         0.        ]\n",
      " [0.         0.        ]\n",
      " [0.         0.        ]\n",
      " [0.         0.        ]\n",
      " [0.         0.        ]\n",
      " [0.         0.        ]\n",
      " [0.         0.        ]\n",
      " [0.         0.        ]\n",
      " [0.         0.        ]\n",
      " [0.         0.        ]\n",
      " [0.         0.        ]\n",
      " [0.         0.        ]\n",
      " [0.         0.        ]\n",
      " [0.         0.        ]\n",
      " [0.         0.        ]\n",
      " [0.         0.        ]\n",
      " [0.         0.        ]\n",
      " [0.         0.        ]\n",
      " [0.         0.        ]\n",
      " [0.         0.        ]\n",
      " [0.         0.        ]\n",
      " [0.         0.        ]\n",
      " [0.         0.        ]\n",
      " [0.         0.        ]\n",
      " [0.         0.        ]\n",
      " [0.         0.        ]\n",
      " [0.00196078 0.23529412]\n",
      " [0.00196078 0.23529412]\n",
      " [0.00196078 0.23529412]\n",
      " [0.00196078 0.23529412]\n",
      " [0.00196078 0.23529412]\n",
      " [0.00196078 0.23529412]]\n"
     ]
    }
   ],
   "source": [
    "img = cv2.imread('fig/hammer_fric.png').astype('float')/255\n",
    "bottom_fric_prof = np.stack([img[:,:,2][mask]/100, img[:,:,1][mask]], axis=-1)\n",
    "print(bottom_fric_prof)"
   ]
  },
  {
   "cell_type": "code",
   "execution_count": null,
   "metadata": {},
   "outputs": [],
   "source": []
  }
 ],
 "metadata": {
  "kernelspec": {
   "display_name": "Python 3",
   "language": "python",
   "name": "python3"
  },
  "language_info": {
   "codemirror_mode": {
    "name": "ipython",
    "version": 3
   },
   "file_extension": ".py",
   "mimetype": "text/x-python",
   "name": "python",
   "nbconvert_exporter": "python",
   "pygments_lexer": "ipython3",
   "version": "3.6.13"
  }
 },
 "nbformat": 4,
 "nbformat_minor": 5
}
