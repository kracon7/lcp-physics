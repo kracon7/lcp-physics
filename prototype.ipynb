{
 "cells": [
  {
   "cell_type": "markdown",
   "id": "edf9a607",
   "metadata": {},
   "source": [
    "# T shaped object mass and fric_coeff profile"
   ]
  },
  {
   "cell_type": "code",
   "execution_count": 6,
   "id": "a7d879c0",
   "metadata": {},
   "outputs": [],
   "source": [
    "import os\n",
    "import sys\n",
    "import torch\n",
    "import cv2\n",
    "import numpy as np\n",
    "import matplotlib.pyplot as plt"
   ]
  },
  {
   "cell_type": "code",
   "execution_count": 25,
   "id": "2cd33057",
   "metadata": {},
   "outputs": [],
   "source": [
    "img = cv2.imread(os.path.join('fig/T-Shape.png'))\n",
    "img = cv2.resize(img, (20, 15))\n",
    "# print(img.shape)\n",
    "img[img[:,:,:] >0] = 255\n",
    "img[:,:7,:] = 255\n",
    "img[:,-7:,:] = 255"
   ]
  },
  {
   "cell_type": "code",
   "execution_count": 26,
   "id": "ee5e9ae4",
   "metadata": {},
   "outputs": [
    {
     "data": {
      "text/plain": [
       "<matplotlib.image.AxesImage at 0x7ff9060de668>"
      ]
     },
     "execution_count": 26,
     "metadata": {},
     "output_type": "execute_result"
    },
    {
     "data": {
      "image/png": "[encoded data removed]",
      "text/plain": [
       "<Figure size 432x288 with 1 Axes>"
      ]
     },
     "metadata": {
      "needs_background": "light"
     },
     "output_type": "display_data"
    }
   ],
   "source": [
    "plt.imshow(img)"
   ]
  },
  {
   "cell_type": "code",
   "execution_count": 31,
   "id": "5459244a",
   "metadata": {},
   "outputs": [
    {
     "data": {
      "text/plain": [
       "[<matplotlib.lines.Line2D at 0x7ff8fd81d208>]"
      ]
     },
     "execution_count": 31,
     "metadata": {},
     "output_type": "execute_result"
    },
    {
     "data": {
      "image/png": "[encoded data removed]",
      "text/plain": [
       "<Figure size 432x288 with 1 Axes>"
      ]
     },
     "metadata": {
      "needs_background": "light"
     },
     "output_type": "display_data"
    }
   ],
   "source": [
    "### Mass profile\n",
    "mass = img.copy()\n",
    "plt.plot(mass[:,9,0])\n"
   ]
  },
  {
   "cell_type": "code",
   "execution_count": null,
   "id": "7e64e35c",
   "metadata": {},
   "outputs": [],
   "source": []
  }
 ],
 "metadata": {
  "kernelspec": {
   "display_name": "Python 3",
   "language": "python",
   "name": "python3"
  },
  "language_info": {
   "codemirror_mode": {
    "name": "ipython",
    "version": 3
   },
   "file_extension": ".py",
   "mimetype": "text/x-python",
   "name": "python",
   "nbconvert_exporter": "python",
   "pygments_lexer": "ipython3",
   "version": "3.6.9"
  }
 },
 "nbformat": 4,
 "nbformat_minor": 5
}
